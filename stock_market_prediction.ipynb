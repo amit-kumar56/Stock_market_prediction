{
 "cells": [
  {
   "cell_type": "code",
   "execution_count": 185,
   "metadata": {},
   "outputs": [],
   "source": [
    "import pandas as pd\n",
    "import numpy as np \n",
    "import itertools\n",
    "import keras\n",
    "from sklearn import metrics\n",
    "from sklearn.metrics import confusion_matrix\n",
    "from keras.models import Sequential\n",
    "from keras.layers import Conv2D\n",
    "from keras.layers import MaxPooling2D\n",
    "from keras.layers import Flatten\n",
    "from keras.layers import Dense,LSTM\n",
    "from keras.layers import Activation, Dropout,BatchNormalization\n",
    "from keras import optimizers\n",
    "from keras import applications\n",
    "from keras.preprocessing import image\n",
    "from keras.preprocessing.image import ImageDataGenerator\n",
    "from keras import applications \n",
    "from keras.utils.np_utils import to_categorical \n",
    "import matplotlib.pyplot as plt \n",
    "import matplotlib.image as mpimg\n",
    "import math \n",
    "import datetime\n",
    "import time\n",
    "import tensorflow as tf\n",
    "from keras.optimizers import Adam\n",
    "from sklearn.preprocessing import MinMaxScaler\n"
   ]
  },
  {
   "cell_type": "code",
   "execution_count": 186,
   "metadata": {},
   "outputs": [],
   "source": [
    "train_dataset=pd.read_csv('/home/heroo/Downloads/datascence _coursera/P16-Recurrent-Neural-Networks/Recurrent_Neural_Networks/Google_Stock_Price_Train.csv')"
   ]
  },
  {
   "cell_type": "code",
   "execution_count": 187,
   "metadata": {},
   "outputs": [],
   "source": [
    "test_dataset=pd.read_csv('/home/heroo/Downloads/datascence _coursera/P16-Recurrent-Neural-Networks/Recurrent_Neural_Networks/Google_Stock_Price_Test.csv')"
   ]
  },
  {
   "cell_type": "code",
   "execution_count": 188,
   "metadata": {},
   "outputs": [
    {
     "data": {
      "text/html": [
       "<div>\n",
       "<style scoped>\n",
       "    .dataframe tbody tr th:only-of-type {\n",
       "        vertical-align: middle;\n",
       "    }\n",
       "\n",
       "    .dataframe tbody tr th {\n",
       "        vertical-align: top;\n",
       "    }\n",
       "\n",
       "    .dataframe thead th {\n",
       "        text-align: right;\n",
       "    }\n",
       "</style>\n",
       "<table border=\"1\" class=\"dataframe\">\n",
       "  <thead>\n",
       "    <tr style=\"text-align: right;\">\n",
       "      <th></th>\n",
       "      <th>Date</th>\n",
       "      <th>Open</th>\n",
       "      <th>High</th>\n",
       "      <th>Low</th>\n",
       "      <th>Close</th>\n",
       "      <th>Volume</th>\n",
       "    </tr>\n",
       "  </thead>\n",
       "  <tbody>\n",
       "    <tr>\n",
       "      <th>0</th>\n",
       "      <td>1/3/2012</td>\n",
       "      <td>325.25</td>\n",
       "      <td>332.83</td>\n",
       "      <td>324.97</td>\n",
       "      <td>663.59</td>\n",
       "      <td>7,380,500</td>\n",
       "    </tr>\n",
       "    <tr>\n",
       "      <th>1</th>\n",
       "      <td>1/4/2012</td>\n",
       "      <td>331.27</td>\n",
       "      <td>333.87</td>\n",
       "      <td>329.08</td>\n",
       "      <td>666.45</td>\n",
       "      <td>5,749,400</td>\n",
       "    </tr>\n",
       "    <tr>\n",
       "      <th>2</th>\n",
       "      <td>1/5/2012</td>\n",
       "      <td>329.83</td>\n",
       "      <td>330.75</td>\n",
       "      <td>326.89</td>\n",
       "      <td>657.21</td>\n",
       "      <td>6,590,300</td>\n",
       "    </tr>\n",
       "    <tr>\n",
       "      <th>3</th>\n",
       "      <td>1/6/2012</td>\n",
       "      <td>328.34</td>\n",
       "      <td>328.77</td>\n",
       "      <td>323.68</td>\n",
       "      <td>648.24</td>\n",
       "      <td>5,405,900</td>\n",
       "    </tr>\n",
       "    <tr>\n",
       "      <th>4</th>\n",
       "      <td>1/9/2012</td>\n",
       "      <td>322.04</td>\n",
       "      <td>322.29</td>\n",
       "      <td>309.46</td>\n",
       "      <td>620.76</td>\n",
       "      <td>11,688,800</td>\n",
       "    </tr>\n",
       "  </tbody>\n",
       "</table>\n",
       "</div>"
      ],
      "text/plain": [
       "       Date    Open    High     Low   Close      Volume\n",
       "0  1/3/2012  325.25  332.83  324.97  663.59   7,380,500\n",
       "1  1/4/2012  331.27  333.87  329.08  666.45   5,749,400\n",
       "2  1/5/2012  329.83  330.75  326.89  657.21   6,590,300\n",
       "3  1/6/2012  328.34  328.77  323.68  648.24   5,405,900\n",
       "4  1/9/2012  322.04  322.29  309.46  620.76  11,688,800"
      ]
     },
     "execution_count": 188,
     "metadata": {},
     "output_type": "execute_result"
    }
   ],
   "source": [
    "train_dataset.head()"
   ]
  },
  {
   "cell_type": "code",
   "execution_count": 189,
   "metadata": {},
   "outputs": [
    {
     "data": {
      "text/plain": [
       "(1258, 6)"
      ]
     },
     "execution_count": 189,
     "metadata": {},
     "output_type": "execute_result"
    }
   ],
   "source": [
    "train_dataset.shape"
   ]
  },
  {
   "cell_type": "code",
   "execution_count": 190,
   "metadata": {},
   "outputs": [],
   "source": [
    "train_dataset['Date']=pd.to_datetime(train_dataset['Date'])"
   ]
  },
  {
   "cell_type": "code",
   "execution_count": 191,
   "metadata": {},
   "outputs": [
    {
     "data": {
      "text/html": [
       "<div>\n",
       "<style scoped>\n",
       "    .dataframe tbody tr th:only-of-type {\n",
       "        vertical-align: middle;\n",
       "    }\n",
       "\n",
       "    .dataframe tbody tr th {\n",
       "        vertical-align: top;\n",
       "    }\n",
       "\n",
       "    .dataframe thead th {\n",
       "        text-align: right;\n",
       "    }\n",
       "</style>\n",
       "<table border=\"1\" class=\"dataframe\">\n",
       "  <thead>\n",
       "    <tr style=\"text-align: right;\">\n",
       "      <th></th>\n",
       "      <th>Date</th>\n",
       "      <th>Open</th>\n",
       "      <th>High</th>\n",
       "      <th>Low</th>\n",
       "      <th>Close</th>\n",
       "      <th>Volume</th>\n",
       "    </tr>\n",
       "  </thead>\n",
       "  <tbody>\n",
       "    <tr>\n",
       "      <th>0</th>\n",
       "      <td>2012-01-03</td>\n",
       "      <td>325.25</td>\n",
       "      <td>332.83</td>\n",
       "      <td>324.97</td>\n",
       "      <td>663.59</td>\n",
       "      <td>7,380,500</td>\n",
       "    </tr>\n",
       "    <tr>\n",
       "      <th>1</th>\n",
       "      <td>2012-01-04</td>\n",
       "      <td>331.27</td>\n",
       "      <td>333.87</td>\n",
       "      <td>329.08</td>\n",
       "      <td>666.45</td>\n",
       "      <td>5,749,400</td>\n",
       "    </tr>\n",
       "    <tr>\n",
       "      <th>2</th>\n",
       "      <td>2012-01-05</td>\n",
       "      <td>329.83</td>\n",
       "      <td>330.75</td>\n",
       "      <td>326.89</td>\n",
       "      <td>657.21</td>\n",
       "      <td>6,590,300</td>\n",
       "    </tr>\n",
       "    <tr>\n",
       "      <th>3</th>\n",
       "      <td>2012-01-06</td>\n",
       "      <td>328.34</td>\n",
       "      <td>328.77</td>\n",
       "      <td>323.68</td>\n",
       "      <td>648.24</td>\n",
       "      <td>5,405,900</td>\n",
       "    </tr>\n",
       "    <tr>\n",
       "      <th>4</th>\n",
       "      <td>2012-01-09</td>\n",
       "      <td>322.04</td>\n",
       "      <td>322.29</td>\n",
       "      <td>309.46</td>\n",
       "      <td>620.76</td>\n",
       "      <td>11,688,800</td>\n",
       "    </tr>\n",
       "  </tbody>\n",
       "</table>\n",
       "</div>"
      ],
      "text/plain": [
       "        Date    Open    High     Low   Close      Volume\n",
       "0 2012-01-03  325.25  332.83  324.97  663.59   7,380,500\n",
       "1 2012-01-04  331.27  333.87  329.08  666.45   5,749,400\n",
       "2 2012-01-05  329.83  330.75  326.89  657.21   6,590,300\n",
       "3 2012-01-06  328.34  328.77  323.68  648.24   5,405,900\n",
       "4 2012-01-09  322.04  322.29  309.46  620.76  11,688,800"
      ]
     },
     "execution_count": 191,
     "metadata": {},
     "output_type": "execute_result"
    }
   ],
   "source": [
    "train_dataset.head()"
   ]
  },
  {
   "cell_type": "code",
   "execution_count": 192,
   "metadata": {},
   "outputs": [
    {
     "data": {
      "text/html": [
       "<div>\n",
       "<style scoped>\n",
       "    .dataframe tbody tr th:only-of-type {\n",
       "        vertical-align: middle;\n",
       "    }\n",
       "\n",
       "    .dataframe tbody tr th {\n",
       "        vertical-align: top;\n",
       "    }\n",
       "\n",
       "    .dataframe thead th {\n",
       "        text-align: right;\n",
       "    }\n",
       "</style>\n",
       "<table border=\"1\" class=\"dataframe\">\n",
       "  <thead>\n",
       "    <tr style=\"text-align: right;\">\n",
       "      <th></th>\n",
       "      <th>Date</th>\n",
       "      <th>Open</th>\n",
       "      <th>High</th>\n",
       "      <th>Low</th>\n",
       "      <th>Close</th>\n",
       "      <th>Volume</th>\n",
       "    </tr>\n",
       "  </thead>\n",
       "  <tbody>\n",
       "    <tr>\n",
       "      <th>0</th>\n",
       "      <td>1/3/2017</td>\n",
       "      <td>778.81</td>\n",
       "      <td>789.63</td>\n",
       "      <td>775.80</td>\n",
       "      <td>786.14</td>\n",
       "      <td>1,657,300</td>\n",
       "    </tr>\n",
       "    <tr>\n",
       "      <th>1</th>\n",
       "      <td>1/4/2017</td>\n",
       "      <td>788.36</td>\n",
       "      <td>791.34</td>\n",
       "      <td>783.16</td>\n",
       "      <td>786.90</td>\n",
       "      <td>1,073,000</td>\n",
       "    </tr>\n",
       "    <tr>\n",
       "      <th>2</th>\n",
       "      <td>1/5/2017</td>\n",
       "      <td>786.08</td>\n",
       "      <td>794.48</td>\n",
       "      <td>785.02</td>\n",
       "      <td>794.02</td>\n",
       "      <td>1,335,200</td>\n",
       "    </tr>\n",
       "    <tr>\n",
       "      <th>3</th>\n",
       "      <td>1/6/2017</td>\n",
       "      <td>795.26</td>\n",
       "      <td>807.90</td>\n",
       "      <td>792.20</td>\n",
       "      <td>806.15</td>\n",
       "      <td>1,640,200</td>\n",
       "    </tr>\n",
       "    <tr>\n",
       "      <th>4</th>\n",
       "      <td>1/9/2017</td>\n",
       "      <td>806.40</td>\n",
       "      <td>809.97</td>\n",
       "      <td>802.83</td>\n",
       "      <td>806.65</td>\n",
       "      <td>1,272,400</td>\n",
       "    </tr>\n",
       "  </tbody>\n",
       "</table>\n",
       "</div>"
      ],
      "text/plain": [
       "       Date    Open    High     Low   Close     Volume\n",
       "0  1/3/2017  778.81  789.63  775.80  786.14  1,657,300\n",
       "1  1/4/2017  788.36  791.34  783.16  786.90  1,073,000\n",
       "2  1/5/2017  786.08  794.48  785.02  794.02  1,335,200\n",
       "3  1/6/2017  795.26  807.90  792.20  806.15  1,640,200\n",
       "4  1/9/2017  806.40  809.97  802.83  806.65  1,272,400"
      ]
     },
     "execution_count": 192,
     "metadata": {},
     "output_type": "execute_result"
    }
   ],
   "source": [
    "test_dataset.head()"
   ]
  },
  {
   "cell_type": "code",
   "execution_count": 193,
   "metadata": {},
   "outputs": [],
   "source": [
    "test_dataset['Date']=pd.to_datetime(test_dataset['Date'])"
   ]
  },
  {
   "cell_type": "code",
   "execution_count": 194,
   "metadata": {},
   "outputs": [
    {
     "data": {
      "text/html": [
       "<div>\n",
       "<style scoped>\n",
       "    .dataframe tbody tr th:only-of-type {\n",
       "        vertical-align: middle;\n",
       "    }\n",
       "\n",
       "    .dataframe tbody tr th {\n",
       "        vertical-align: top;\n",
       "    }\n",
       "\n",
       "    .dataframe thead th {\n",
       "        text-align: right;\n",
       "    }\n",
       "</style>\n",
       "<table border=\"1\" class=\"dataframe\">\n",
       "  <thead>\n",
       "    <tr style=\"text-align: right;\">\n",
       "      <th></th>\n",
       "      <th>Date</th>\n",
       "      <th>Open</th>\n",
       "      <th>High</th>\n",
       "      <th>Low</th>\n",
       "      <th>Close</th>\n",
       "      <th>Volume</th>\n",
       "    </tr>\n",
       "  </thead>\n",
       "  <tbody>\n",
       "    <tr>\n",
       "      <th>0</th>\n",
       "      <td>2017-01-03</td>\n",
       "      <td>778.81</td>\n",
       "      <td>789.63</td>\n",
       "      <td>775.80</td>\n",
       "      <td>786.14</td>\n",
       "      <td>1,657,300</td>\n",
       "    </tr>\n",
       "    <tr>\n",
       "      <th>1</th>\n",
       "      <td>2017-01-04</td>\n",
       "      <td>788.36</td>\n",
       "      <td>791.34</td>\n",
       "      <td>783.16</td>\n",
       "      <td>786.90</td>\n",
       "      <td>1,073,000</td>\n",
       "    </tr>\n",
       "    <tr>\n",
       "      <th>2</th>\n",
       "      <td>2017-01-05</td>\n",
       "      <td>786.08</td>\n",
       "      <td>794.48</td>\n",
       "      <td>785.02</td>\n",
       "      <td>794.02</td>\n",
       "      <td>1,335,200</td>\n",
       "    </tr>\n",
       "    <tr>\n",
       "      <th>3</th>\n",
       "      <td>2017-01-06</td>\n",
       "      <td>795.26</td>\n",
       "      <td>807.90</td>\n",
       "      <td>792.20</td>\n",
       "      <td>806.15</td>\n",
       "      <td>1,640,200</td>\n",
       "    </tr>\n",
       "    <tr>\n",
       "      <th>4</th>\n",
       "      <td>2017-01-09</td>\n",
       "      <td>806.40</td>\n",
       "      <td>809.97</td>\n",
       "      <td>802.83</td>\n",
       "      <td>806.65</td>\n",
       "      <td>1,272,400</td>\n",
       "    </tr>\n",
       "  </tbody>\n",
       "</table>\n",
       "</div>"
      ],
      "text/plain": [
       "        Date    Open    High     Low   Close     Volume\n",
       "0 2017-01-03  778.81  789.63  775.80  786.14  1,657,300\n",
       "1 2017-01-04  788.36  791.34  783.16  786.90  1,073,000\n",
       "2 2017-01-05  786.08  794.48  785.02  794.02  1,335,200\n",
       "3 2017-01-06  795.26  807.90  792.20  806.15  1,640,200\n",
       "4 2017-01-09  806.40  809.97  802.83  806.65  1,272,400"
      ]
     },
     "execution_count": 194,
     "metadata": {},
     "output_type": "execute_result"
    }
   ],
   "source": [
    "test_dataset.head()"
   ]
  },
  {
   "cell_type": "code",
   "execution_count": 195,
   "metadata": {},
   "outputs": [],
   "source": [
    "x_train=train_dataset.iloc[:,1:2].values"
   ]
  },
  {
   "cell_type": "code",
   "execution_count": 196,
   "metadata": {},
   "outputs": [
    {
     "data": {
      "text/plain": [
       "(1258, 1)"
      ]
     },
     "execution_count": 196,
     "metadata": {},
     "output_type": "execute_result"
    }
   ],
   "source": [
    "x_train.shape"
   ]
  },
  {
   "cell_type": "code",
   "execution_count": 197,
   "metadata": {},
   "outputs": [],
   "source": [
    "obj=MinMaxScaler(feature_range=(0,1))\n",
    "x_train=obj.fit_transform(x_train)"
   ]
  },
  {
   "cell_type": "code",
   "execution_count": 198,
   "metadata": {},
   "outputs": [
    {
     "data": {
      "text/plain": [
       "array([0.08581368])"
      ]
     },
     "execution_count": 198,
     "metadata": {},
     "output_type": "execute_result"
    }
   ],
   "source": [
    "x_train[0]"
   ]
  },
  {
   "cell_type": "code",
   "execution_count": 199,
   "metadata": {},
   "outputs": [],
   "source": [
    "X_train=x_train[0:1257]\n",
    "Y_train=x_train[1:1258]"
   ]
  },
  {
   "cell_type": "code",
   "execution_count": 200,
   "metadata": {},
   "outputs": [],
   "source": [
    "Xx_train=np.reshape(X_train,(1257,1,1))"
   ]
  },
  {
   "cell_type": "code",
   "execution_count": 201,
   "metadata": {},
   "outputs": [],
   "source": [
    "reg=Sequential()\n",
    "reg.add(LSTM(units=4,activation='sigmoid',input_shape=(1,1)))\n",
    "reg.add(Dense(units=1))\n",
    "reg.compile(optimizer='adam',loss='mean_squared_error')"
   ]
  },
  {
   "cell_type": "code",
   "execution_count": 202,
   "metadata": {
    "collapsed": true
   },
   "outputs": [
    {
     "name": "stdout",
     "output_type": "stream",
     "text": [
      "Epoch 1/200\n",
      "1257/1257 [==============================] - 0s 311us/step - loss: 0.3870\n",
      "Epoch 2/200\n",
      "1257/1257 [==============================] - 0s 66us/step - loss: 0.2975\n",
      "Epoch 3/200\n",
      "1257/1257 [==============================] - 0s 66us/step - loss: 0.2285\n",
      "Epoch 4/200\n",
      "1257/1257 [==============================] - 0s 65us/step - loss: 0.1773\n",
      "Epoch 5/200\n",
      "1257/1257 [==============================] - 0s 70us/step - loss: 0.1404\n",
      "Epoch 6/200\n",
      "1257/1257 [==============================] - 0s 61us/step - loss: 0.1150\n",
      "Epoch 7/200\n",
      "1257/1257 [==============================] - 0s 64us/step - loss: 0.0981\n",
      "Epoch 8/200\n",
      "1257/1257 [==============================] - 0s 62us/step - loss: 0.0876\n",
      "Epoch 9/200\n",
      "1257/1257 [==============================] - 0s 63us/step - loss: 0.0814\n",
      "Epoch 10/200\n",
      "1257/1257 [==============================] - 0s 65us/step - loss: 0.0776\n",
      "Epoch 11/200\n",
      "1257/1257 [==============================] - 0s 63us/step - loss: 0.0755\n",
      "Epoch 12/200\n",
      "1257/1257 [==============================] - 0s 69us/step - loss: 0.0743\n",
      "Epoch 13/200\n",
      "1257/1257 [==============================] - 0s 66us/step - loss: 0.0734\n",
      "Epoch 14/200\n",
      "1257/1257 [==============================] - 0s 70us/step - loss: 0.0727\n",
      "Epoch 15/200\n",
      "1257/1257 [==============================] - 0s 60us/step - loss: 0.0720\n",
      "Epoch 16/200\n",
      "1257/1257 [==============================] - 0s 72us/step - loss: 0.0714\n",
      "Epoch 17/200\n",
      "1257/1257 [==============================] - 0s 65us/step - loss: 0.0707\n",
      "Epoch 18/200\n",
      "1257/1257 [==============================] - 0s 62us/step - loss: 0.0700\n",
      "Epoch 19/200\n",
      "1257/1257 [==============================] - 0s 64us/step - loss: 0.0693\n",
      "Epoch 20/200\n",
      "1257/1257 [==============================] - 0s 66us/step - loss: 0.0686\n",
      "Epoch 21/200\n",
      "1257/1257 [==============================] - 0s 69us/step - loss: 0.0679\n",
      "Epoch 22/200\n",
      "1257/1257 [==============================] - 0s 61us/step - loss: 0.0671\n",
      "Epoch 23/200\n",
      "1257/1257 [==============================] - 0s 68us/step - loss: 0.0664\n",
      "Epoch 24/200\n",
      "1257/1257 [==============================] - 0s 63us/step - loss: 0.0656\n",
      "Epoch 25/200\n",
      "1257/1257 [==============================] - 0s 66us/step - loss: 0.0647\n",
      "Epoch 26/200\n",
      "1257/1257 [==============================] - 0s 67us/step - loss: 0.0639\n",
      "Epoch 27/200\n",
      "1257/1257 [==============================] - 0s 66us/step - loss: 0.0630\n",
      "Epoch 28/200\n",
      "1257/1257 [==============================] - 0s 63us/step - loss: 0.0621\n",
      "Epoch 29/200\n",
      "1257/1257 [==============================] - 0s 66us/step - loss: 0.0611\n",
      "Epoch 30/200\n",
      "1257/1257 [==============================] - 0s 59us/step - loss: 0.0601\n",
      "Epoch 31/200\n",
      "1257/1257 [==============================] - 0s 64us/step - loss: 0.0591\n",
      "Epoch 32/200\n",
      "1257/1257 [==============================] - 0s 66us/step - loss: 0.0580\n",
      "Epoch 33/200\n",
      "1257/1257 [==============================] - 0s 62us/step - loss: 0.0569\n",
      "Epoch 34/200\n",
      "1257/1257 [==============================] - 0s 65us/step - loss: 0.0557\n",
      "Epoch 35/200\n",
      "1257/1257 [==============================] - 0s 68us/step - loss: 0.0545\n",
      "Epoch 36/200\n",
      "1257/1257 [==============================] - 0s 60us/step - loss: 0.0533\n",
      "Epoch 37/200\n",
      "1257/1257 [==============================] - 0s 62us/step - loss: 0.0520\n",
      "Epoch 38/200\n",
      "1257/1257 [==============================] - 0s 61us/step - loss: 0.0506\n",
      "Epoch 39/200\n",
      "1257/1257 [==============================] - 0s 65us/step - loss: 0.0492\n",
      "Epoch 40/200\n",
      "1257/1257 [==============================] - 0s 69us/step - loss: 0.0478\n",
      "Epoch 41/200\n",
      "1257/1257 [==============================] - 0s 63us/step - loss: 0.0463\n",
      "Epoch 42/200\n",
      "1257/1257 [==============================] - 0s 70us/step - loss: 0.0448\n",
      "Epoch 43/200\n",
      "1257/1257 [==============================] - 0s 65us/step - loss: 0.0432\n",
      "Epoch 44/200\n",
      "1257/1257 [==============================] - 0s 63us/step - loss: 0.0416\n",
      "Epoch 45/200\n",
      "1257/1257 [==============================] - 0s 60us/step - loss: 0.0398\n",
      "Epoch 46/200\n",
      "1257/1257 [==============================] - 0s 58us/step - loss: 0.0381\n",
      "Epoch 47/200\n",
      "1257/1257 [==============================] - 0s 67us/step - loss: 0.0364\n",
      "Epoch 48/200\n",
      "1257/1257 [==============================] - 0s 68us/step - loss: 0.0346\n",
      "Epoch 49/200\n",
      "1257/1257 [==============================] - 0s 63us/step - loss: 0.0328\n",
      "Epoch 50/200\n",
      "1257/1257 [==============================] - 0s 62us/step - loss: 0.0310\n",
      "Epoch 51/200\n",
      "1257/1257 [==============================] - 0s 67us/step - loss: 0.0292\n",
      "Epoch 52/200\n",
      "1257/1257 [==============================] - 0s 64us/step - loss: 0.0273\n",
      "Epoch 53/200\n",
      "1257/1257 [==============================] - 0s 67us/step - loss: 0.0255\n",
      "Epoch 54/200\n",
      "1257/1257 [==============================] - 0s 66us/step - loss: 0.0237\n",
      "Epoch 55/200\n",
      "1257/1257 [==============================] - 0s 60us/step - loss: 0.0219\n",
      "Epoch 56/200\n",
      "1257/1257 [==============================] - 0s 58us/step - loss: 0.0201\n",
      "Epoch 57/200\n",
      "1257/1257 [==============================] - 0s 66us/step - loss: 0.0184\n",
      "Epoch 58/200\n",
      "1257/1257 [==============================] - 0s 63us/step - loss: 0.0167\n",
      "Epoch 59/200\n",
      "1257/1257 [==============================] - 0s 61us/step - loss: 0.0151\n",
      "Epoch 60/200\n",
      "1257/1257 [==============================] - 0s 60us/step - loss: 0.0136\n",
      "Epoch 61/200\n",
      "1257/1257 [==============================] - 0s 59us/step - loss: 0.0122\n",
      "Epoch 62/200\n",
      "1257/1257 [==============================] - 0s 62us/step - loss: 0.0108\n",
      "Epoch 63/200\n",
      "1257/1257 [==============================] - 0s 75us/step - loss: 0.0096\n",
      "Epoch 64/200\n",
      "1257/1257 [==============================] - 0s 69us/step - loss: 0.0084\n",
      "Epoch 65/200\n",
      "1257/1257 [==============================] - 0s 69us/step - loss: 0.0073\n",
      "Epoch 66/200\n",
      "1257/1257 [==============================] - 0s 66us/step - loss: 0.0064\n",
      "Epoch 67/200\n",
      "1257/1257 [==============================] - 0s 65us/step - loss: 0.0055\n",
      "Epoch 68/200\n",
      "1257/1257 [==============================] - 0s 75us/step - loss: 0.0047\n",
      "Epoch 69/200\n",
      "1257/1257 [==============================] - 0s 88us/step - loss: 0.0040\n",
      "Epoch 70/200\n",
      "1257/1257 [==============================] - 0s 93us/step - loss: 0.0034\n",
      "Epoch 71/200\n",
      "1257/1257 [==============================] - 0s 74us/step - loss: 0.0029\n",
      "Epoch 72/200\n",
      "1257/1257 [==============================] - 0s 72us/step - loss: 0.0024\n",
      "Epoch 73/200\n",
      "1257/1257 [==============================] - 0s 72us/step - loss: 0.0020\n",
      "Epoch 74/200\n",
      "1257/1257 [==============================] - 0s 63us/step - loss: 0.0017\n",
      "Epoch 75/200\n",
      "1257/1257 [==============================] - 0s 62us/step - loss: 0.0014\n",
      "Epoch 76/200\n",
      "1257/1257 [==============================] - 0s 78us/step - loss: 0.0012\n",
      "Epoch 77/200\n",
      "1257/1257 [==============================] - 0s 73us/step - loss: 0.0010\n",
      "Epoch 78/200\n",
      "1257/1257 [==============================] - 0s 76us/step - loss: 8.5252e-04\n",
      "Epoch 79/200\n",
      "1257/1257 [==============================] - 0s 72us/step - loss: 7.2939e-04\n",
      "Epoch 80/200\n",
      "1257/1257 [==============================] - 0s 75us/step - loss: 6.3001e-04\n",
      "Epoch 81/200\n",
      "1257/1257 [==============================] - 0s 73us/step - loss: 5.5197e-04\n",
      "Epoch 82/200\n",
      "1257/1257 [==============================] - 0s 62us/step - loss: 4.9054e-04\n",
      "Epoch 83/200\n",
      "1257/1257 [==============================] - 0s 64us/step - loss: 4.4268e-04\n",
      "Epoch 84/200\n",
      "1257/1257 [==============================] - 0s 60us/step - loss: 4.0708e-04\n",
      "Epoch 85/200\n",
      "1257/1257 [==============================] - 0s 65us/step - loss: 3.7802e-04\n",
      "Epoch 86/200\n",
      "1257/1257 [==============================] - 0s 69us/step - loss: 3.5699e-04\n",
      "Epoch 87/200\n",
      "1257/1257 [==============================] - 0s 62us/step - loss: 3.4181e-04\n",
      "Epoch 88/200\n",
      "1257/1257 [==============================] - 0s 64us/step - loss: 3.2883e-04\n",
      "Epoch 89/200\n",
      "1257/1257 [==============================] - 0s 66us/step - loss: 3.2028e-04\n",
      "Epoch 90/200\n",
      "1257/1257 [==============================] - 0s 65us/step - loss: 3.1266e-04\n",
      "Epoch 91/200\n",
      "1257/1257 [==============================] - 0s 68us/step - loss: 3.0826e-04\n",
      "Epoch 92/200\n",
      "1257/1257 [==============================] - 0s 68us/step - loss: 3.0422e-04\n",
      "Epoch 93/200\n",
      "1257/1257 [==============================] - 0s 69us/step - loss: 3.0179e-04\n",
      "Epoch 94/200\n",
      "1257/1257 [==============================] - 0s 68us/step - loss: 2.9977e-04\n",
      "Epoch 95/200\n"
     ]
    },
    {
     "name": "stdout",
     "output_type": "stream",
     "text": [
      "1257/1257 [==============================] - 0s 65us/step - loss: 2.9742e-04\n",
      "Epoch 96/200\n",
      "1257/1257 [==============================] - 0s 65us/step - loss: 2.9619e-04\n",
      "Epoch 97/200\n",
      "1257/1257 [==============================] - 0s 72us/step - loss: 2.9518e-04\n",
      "Epoch 98/200\n",
      "1257/1257 [==============================] - 0s 64us/step - loss: 2.9526e-04\n",
      "Epoch 99/200\n",
      "1257/1257 [==============================] - 0s 65us/step - loss: 2.9327e-04\n",
      "Epoch 100/200\n",
      "1257/1257 [==============================] - 0s 61us/step - loss: 2.9379e-04\n",
      "Epoch 101/200\n",
      "1257/1257 [==============================] - 0s 61us/step - loss: 2.9241e-04\n",
      "Epoch 102/200\n",
      "1257/1257 [==============================] - 0s 60us/step - loss: 2.9177e-04\n",
      "Epoch 103/200\n",
      "1257/1257 [==============================] - 0s 65us/step - loss: 2.9201e-04\n",
      "Epoch 104/200\n",
      "1257/1257 [==============================] - 0s 63us/step - loss: 2.9085e-04\n",
      "Epoch 105/200\n",
      "1257/1257 [==============================] - 0s 69us/step - loss: 2.9099e-04\n",
      "Epoch 106/200\n",
      "1257/1257 [==============================] - 0s 58us/step - loss: 2.9009e-04\n",
      "Epoch 107/200\n",
      "1257/1257 [==============================] - 0s 55us/step - loss: 2.8977e-04\n",
      "Epoch 108/200\n",
      "1257/1257 [==============================] - 0s 57us/step - loss: 2.8890e-04\n",
      "Epoch 109/200\n",
      "1257/1257 [==============================] - 0s 55us/step - loss: 2.8890e-04\n",
      "Epoch 110/200\n",
      "1257/1257 [==============================] - 0s 59us/step - loss: 2.8892e-04\n",
      "Epoch 111/200\n",
      "1257/1257 [==============================] - 0s 58us/step - loss: 2.8844e-04\n",
      "Epoch 112/200\n",
      "1257/1257 [==============================] - 0s 60us/step - loss: 2.8691e-04\n",
      "Epoch 113/200\n",
      "1257/1257 [==============================] - 0s 54us/step - loss: 2.8811e-04\n",
      "Epoch 114/200\n",
      "1257/1257 [==============================] - 0s 59us/step - loss: 2.8660e-04\n",
      "Epoch 115/200\n",
      "1257/1257 [==============================] - 0s 55us/step - loss: 2.8769e-04\n",
      "Epoch 116/200\n",
      "1257/1257 [==============================] - 0s 59us/step - loss: 2.8567e-04\n",
      "Epoch 117/200\n",
      "1257/1257 [==============================] - 0s 61us/step - loss: 2.8577e-04\n",
      "Epoch 118/200\n",
      "1257/1257 [==============================] - 0s 57us/step - loss: 2.8546e-04\n",
      "Epoch 119/200\n",
      "1257/1257 [==============================] - 0s 56us/step - loss: 2.8463e-04\n",
      "Epoch 120/200\n",
      "1257/1257 [==============================] - 0s 59us/step - loss: 2.8635e-04\n",
      "Epoch 121/200\n",
      "1257/1257 [==============================] - 0s 57us/step - loss: 2.8384e-04\n",
      "Epoch 122/200\n",
      "1257/1257 [==============================] - 0s 62us/step - loss: 2.8458e-04\n",
      "Epoch 123/200\n",
      "1257/1257 [==============================] - 0s 58us/step - loss: 2.8363e-04\n",
      "Epoch 124/200\n",
      "1257/1257 [==============================] - 0s 57us/step - loss: 2.8235e-04\n",
      "Epoch 125/200\n",
      "1257/1257 [==============================] - 0s 57us/step - loss: 2.8209e-04\n",
      "Epoch 126/200\n",
      "1257/1257 [==============================] - 0s 61us/step - loss: 2.8205e-04\n",
      "Epoch 127/200\n",
      "1257/1257 [==============================] - 0s 64us/step - loss: 2.8141e-04\n",
      "Epoch 128/200\n",
      "1257/1257 [==============================] - 0s 57us/step - loss: 2.8111e-04\n",
      "Epoch 129/200\n",
      "1257/1257 [==============================] - 0s 55us/step - loss: 2.8136e-04\n",
      "Epoch 130/200\n",
      "1257/1257 [==============================] - 0s 59us/step - loss: 2.8097e-04\n",
      "Epoch 131/200\n",
      "1257/1257 [==============================] - 0s 59us/step - loss: 2.7930e-04\n",
      "Epoch 132/200\n",
      "1257/1257 [==============================] - 0s 57us/step - loss: 2.8103e-04\n",
      "Epoch 133/200\n",
      "1257/1257 [==============================] - 0s 56us/step - loss: 2.7904e-04\n",
      "Epoch 134/200\n",
      "1257/1257 [==============================] - 0s 59us/step - loss: 2.7869e-04\n",
      "Epoch 135/200\n",
      "1257/1257 [==============================] - 0s 58us/step - loss: 2.7902e-04\n",
      "Epoch 136/200\n",
      "1257/1257 [==============================] - 0s 60us/step - loss: 2.7822e-04\n",
      "Epoch 137/200\n",
      "1257/1257 [==============================] - 0s 56us/step - loss: 2.7736e-04\n",
      "Epoch 138/200\n",
      "1257/1257 [==============================] - 0s 60us/step - loss: 2.7704e-04\n",
      "Epoch 139/200\n",
      "1257/1257 [==============================] - 0s 55us/step - loss: 2.7582e-04\n",
      "Epoch 140/200\n",
      "1257/1257 [==============================] - 0s 56us/step - loss: 2.7754e-04\n",
      "Epoch 141/200\n",
      "1257/1257 [==============================] - 0s 59us/step - loss: 2.7776e-04\n",
      "Epoch 142/200\n",
      "1257/1257 [==============================] - 0s 55us/step - loss: 2.7738e-04\n",
      "Epoch 143/200\n",
      "1257/1257 [==============================] - 0s 62us/step - loss: 2.7677e-04\n",
      "Epoch 144/200\n",
      "1257/1257 [==============================] - 0s 61us/step - loss: 2.7661e-04\n",
      "Epoch 145/200\n",
      "1257/1257 [==============================] - 0s 60us/step - loss: 2.7584e-04\n",
      "Epoch 146/200\n",
      "1257/1257 [==============================] - 0s 61us/step - loss: 2.7592e-04\n",
      "Epoch 147/200\n",
      "1257/1257 [==============================] - 0s 58us/step - loss: 2.7547e-04\n",
      "Epoch 148/200\n",
      "1257/1257 [==============================] - 0s 59us/step - loss: 2.7576e-04\n",
      "Epoch 149/200\n",
      "1257/1257 [==============================] - 0s 57us/step - loss: 2.7572e-04\n",
      "Epoch 150/200\n",
      "1257/1257 [==============================] - 0s 56us/step - loss: 2.7446e-04\n",
      "Epoch 151/200\n",
      "1257/1257 [==============================] - 0s 56us/step - loss: 2.7370e-04\n",
      "Epoch 152/200\n",
      "1257/1257 [==============================] - 0s 58us/step - loss: 2.7338e-04\n",
      "Epoch 153/200\n",
      "1257/1257 [==============================] - 0s 59us/step - loss: 2.7386e-04\n",
      "Epoch 154/200\n",
      "1257/1257 [==============================] - 0s 62us/step - loss: 2.7426e-04\n",
      "Epoch 155/200\n",
      "1257/1257 [==============================] - 0s 62us/step - loss: 2.7364e-04\n",
      "Epoch 156/200\n",
      "1257/1257 [==============================] - 0s 62us/step - loss: 2.7525e-04\n",
      "Epoch 157/200\n",
      "1257/1257 [==============================] - 0s 59us/step - loss: 2.7232e-04\n",
      "Epoch 158/200\n",
      "1257/1257 [==============================] - 0s 58us/step - loss: 2.7394e-04\n",
      "Epoch 159/200\n",
      "1257/1257 [==============================] - 0s 56us/step - loss: 2.7262e-04\n",
      "Epoch 160/200\n",
      "1257/1257 [==============================] - 0s 58us/step - loss: 2.7193e-04\n",
      "Epoch 161/200\n",
      "1257/1257 [==============================] - 0s 58us/step - loss: 2.7395e-04\n",
      "Epoch 162/200\n",
      "1257/1257 [==============================] - 0s 57us/step - loss: 2.7198e-04\n",
      "Epoch 163/200\n",
      "1257/1257 [==============================] - 0s 61us/step - loss: 2.7273e-04\n",
      "Epoch 164/200\n",
      "1257/1257 [==============================] - 0s 55us/step - loss: 2.7091e-04\n",
      "Epoch 165/200\n",
      "1257/1257 [==============================] - 0s 61us/step - loss: 2.7152e-04\n",
      "Epoch 166/200\n",
      "1257/1257 [==============================] - 0s 54us/step - loss: 2.7229e-04\n",
      "Epoch 167/200\n",
      "1257/1257 [==============================] - 0s 55us/step - loss: 2.7235e-04\n",
      "Epoch 168/200\n",
      "1257/1257 [==============================] - 0s 65us/step - loss: 2.7135e-04\n",
      "Epoch 169/200\n",
      "1257/1257 [==============================] - 0s 61us/step - loss: 2.7154e-04\n",
      "Epoch 170/200\n",
      "1257/1257 [==============================] - 0s 54us/step - loss: 2.6972e-04\n",
      "Epoch 171/200\n",
      "1257/1257 [==============================] - 0s 59us/step - loss: 2.7123e-04\n",
      "Epoch 172/200\n",
      "1257/1257 [==============================] - 0s 60us/step - loss: 2.7089e-04\n",
      "Epoch 173/200\n",
      "1257/1257 [==============================] - 0s 56us/step - loss: 2.7033e-04\n",
      "Epoch 174/200\n",
      "1257/1257 [==============================] - 0s 61us/step - loss: 2.7092e-04\n",
      "Epoch 175/200\n",
      "1257/1257 [==============================] - 0s 59us/step - loss: 2.7077e-04\n",
      "Epoch 176/200\n",
      "1257/1257 [==============================] - 0s 62us/step - loss: 2.6931e-04\n",
      "Epoch 177/200\n",
      "1257/1257 [==============================] - 0s 55us/step - loss: 2.7110e-04\n",
      "Epoch 178/200\n",
      "1257/1257 [==============================] - 0s 64us/step - loss: 2.7695e-04\n",
      "Epoch 179/200\n",
      "1257/1257 [==============================] - 0s 60us/step - loss: 2.6983e-04\n",
      "Epoch 180/200\n",
      "1257/1257 [==============================] - 0s 58us/step - loss: 2.7014e-04\n",
      "Epoch 181/200\n",
      "1257/1257 [==============================] - 0s 60us/step - loss: 2.7136e-04\n",
      "Epoch 182/200\n",
      "1257/1257 [==============================] - 0s 62us/step - loss: 2.7050e-04\n",
      "Epoch 183/200\n",
      "1257/1257 [==============================] - 0s 59us/step - loss: 2.7248e-04\n",
      "Epoch 184/200\n",
      "1257/1257 [==============================] - 0s 57us/step - loss: 2.7018e-04\n",
      "Epoch 185/200\n"
     ]
    },
    {
     "name": "stdout",
     "output_type": "stream",
     "text": [
      "1257/1257 [==============================] - 0s 62us/step - loss: 2.6906e-04\n",
      "Epoch 186/200\n",
      "1257/1257 [==============================] - 0s 56us/step - loss: 2.7500e-04\n",
      "Epoch 187/200\n",
      "1257/1257 [==============================] - 0s 63us/step - loss: 2.7428e-04\n",
      "Epoch 188/200\n",
      "1257/1257 [==============================] - 0s 59us/step - loss: 2.6957e-04\n",
      "Epoch 189/200\n",
      "1257/1257 [==============================] - 0s 57us/step - loss: 2.7082e-04\n",
      "Epoch 190/200\n",
      "1257/1257 [==============================] - 0s 57us/step - loss: 2.7032e-04\n",
      "Epoch 191/200\n",
      "1257/1257 [==============================] - 0s 58us/step - loss: 2.6989e-04\n",
      "Epoch 192/200\n",
      "1257/1257 [==============================] - 0s 53us/step - loss: 2.6873e-04\n",
      "Epoch 193/200\n",
      "1257/1257 [==============================] - 0s 59us/step - loss: 2.7058e-04\n",
      "Epoch 194/200\n",
      "1257/1257 [==============================] - 0s 56us/step - loss: 2.7183e-04\n",
      "Epoch 195/200\n",
      "1257/1257 [==============================] - 0s 55us/step - loss: 2.7134e-04\n",
      "Epoch 196/200\n",
      "1257/1257 [==============================] - 0s 57us/step - loss: 2.7300e-04\n",
      "Epoch 197/200\n",
      "1257/1257 [==============================] - 0s 57us/step - loss: 2.6657e-04\n",
      "Epoch 198/200\n",
      "1257/1257 [==============================] - 0s 57us/step - loss: 2.6941e-04\n",
      "Epoch 199/200\n",
      "1257/1257 [==============================] - 0s 57us/step - loss: 2.7092e-04\n",
      "Epoch 200/200\n",
      "1257/1257 [==============================] - 0s 56us/step - loss: 2.6823e-04\n"
     ]
    },
    {
     "data": {
      "text/plain": [
       "<keras.callbacks.callbacks.History at 0x7efc9321a390>"
      ]
     },
     "execution_count": 202,
     "metadata": {},
     "output_type": "execute_result"
    }
   ],
   "source": [
    "reg.fit(Xx_train,Y_train,batch_size=32,epochs=200)"
   ]
  },
  {
   "cell_type": "code",
   "execution_count": 203,
   "metadata": {},
   "outputs": [],
   "source": [
    "test=test_dataset.iloc[:,1:2].values"
   ]
  },
  {
   "cell_type": "code",
   "execution_count": 204,
   "metadata": {},
   "outputs": [],
   "source": [
    "test.shape\n",
    "tst=test"
   ]
  },
  {
   "cell_type": "code",
   "execution_count": 205,
   "metadata": {},
   "outputs": [],
   "source": [
    "test=obj.transform(test)"
   ]
  },
  {
   "cell_type": "code",
   "execution_count": 206,
   "metadata": {},
   "outputs": [],
   "source": [
    "test=np.reshape(test,(20,1,1))"
   ]
  },
  {
   "cell_type": "code",
   "execution_count": 207,
   "metadata": {},
   "outputs": [],
   "source": [
    "pred=reg.predict(test)"
   ]
  },
  {
   "cell_type": "code",
   "execution_count": 208,
   "metadata": {},
   "outputs": [],
   "source": [
    "pred=obj.inverse_transform(pred)"
   ]
  },
  {
   "cell_type": "code",
   "execution_count": 209,
   "metadata": {
    "collapsed": true
   },
   "outputs": [
    {
     "name": "stdout",
     "output_type": "stream",
     "text": [
      "[[775.1602 ]\n",
      " [783.2228 ]\n",
      " [781.3094 ]\n",
      " [788.9688 ]\n",
      " [798.10345]\n",
      " [799.2876 ]\n",
      " [796.9652 ]\n",
      " [798.70404]\n",
      " [798.9797 ]\n",
      " [798.65533]\n",
      " [797.6242 ]\n",
      " [797.06287]\n",
      " [798.51746]\n",
      " [798.79315]\n",
      " [810.8329 ]\n",
      " [816.5699 ]\n",
      " [822.89594]\n",
      " [820.51306]\n",
      " [804.76196]\n",
      " [790.2916 ]]\n"
     ]
    }
   ],
   "source": [
    "print(pred)"
   ]
  },
  {
   "cell_type": "code",
   "execution_count": 210,
   "metadata": {},
   "outputs": [
    {
     "data": {
      "image/png": "[encoded data removed]",
      "text/plain": [
       "<Figure size 432x288 with 1 Axes>"
      ]
     },
     "metadata": {
      "needs_background": "light"
     },
     "output_type": "display_data"
    }
   ],
   "source": [
    "plt.plot(tst,color='red',label='real')\n",
    "plt.plot(pred,color='blue',label='predicted')\n",
    "plt.title('stock pridiction ')\n",
    "plt.xlabel('x')\n",
    "plt.ylabel('y')\n",
    "plt.legend()\n",
    "plt.show()"
   ]
  },
  {
   "cell_type": "code",
   "execution_count": 211,
   "metadata": {},
   "outputs": [
    {
     "data": {
      "text/plain": [
       "0.01140208744234879"
      ]
     },
     "execution_count": 211,
     "metadata": {},
     "output_type": "execute_result"
    }
   ],
   "source": [
    "from sklearn.metrics import mean_squared_error\n",
    "rmse=math.sqrt(mean_squared_error(tst,pred))\n",
    "rmse/800"
   ]
  },
  {
   "cell_type": "code",
   "execution_count": 212,
   "metadata": {},
   "outputs": [],
   "source": [
    "x_train=train_dataset.iloc[:,1:2].values\n",
    "obj=MinMaxScaler(feature_range=(0,1))\n",
    "x_train=obj.fit_transform(x_train)\n",
    "Xx_train = []\n",
    "y_train = []\n",
    "for i in range(60, 1258):\n",
    "    Xx_train.append(x_train[i-60:i, 0])\n",
    "    y_train.append(x_train[i, 0])\n",
    "Xx_train, y_train = np.array(Xx_train), np.array(y_train)\n",
    "\n"
   ]
  },
  {
   "cell_type": "code",
   "execution_count": 213,
   "metadata": {},
   "outputs": [],
   "source": [
    "st=Xx_train.shape[0]\n",
    "nd=Xx_train.shape[1]\n",
    "training_data=np.reshape(Xx_train,(st,nd,1))"
   ]
  },
  {
   "cell_type": "code",
   "execution_count": 214,
   "metadata": {},
   "outputs": [],
   "source": [
    "new=Sequential()\n",
    "new.add(LSTM(units=50,return_sequences=True,input_shape=(nd,1)))\n",
    "new.add(Dropout(0.2))"
   ]
  },
  {
   "cell_type": "code",
   "execution_count": 215,
   "metadata": {},
   "outputs": [],
   "source": [
    "\n",
    "new.add(LSTM(units=50,return_sequences=True))\n",
    "new.add(Dropout(0.2))"
   ]
  },
  {
   "cell_type": "code",
   "execution_count": 216,
   "metadata": {},
   "outputs": [],
   "source": [
    "new.add(LSTM(units=50,return_sequences=True))\n",
    "new.add(Dropout(0.2))"
   ]
  },
  {
   "cell_type": "code",
   "execution_count": 221,
   "metadata": {},
   "outputs": [],
   "source": [
    "new.add(LSTM(units=50))\n",
    "new.add(Dropout(0.2))"
   ]
  },
  {
   "cell_type": "code",
   "execution_count": 222,
   "metadata": {},
   "outputs": [],
   "source": [
    "#new.add(LSTM(units=50))\n",
    "#new.add(Dropout(0.2))"
   ]
  },
  {
   "cell_type": "code",
   "execution_count": 223,
   "metadata": {},
   "outputs": [],
   "source": [
    "new.add(Dense(units=1))"
   ]
  },
  {
   "cell_type": "code",
   "execution_count": 224,
   "metadata": {
    "scrolled": true
   },
   "outputs": [
    {
     "name": "stdout",
     "output_type": "stream",
     "text": [
      "Epoch 1/100\n",
      "1198/1198 [==============================] - 7s 6ms/step - loss: 0.0641\n",
      "Epoch 2/100\n",
      "1198/1198 [==============================] - 5s 4ms/step - loss: 0.0086\n",
      "Epoch 3/100\n",
      "1198/1198 [==============================] - 5s 4ms/step - loss: 0.0074\n",
      "Epoch 4/100\n",
      "1198/1198 [==============================] - 5s 4ms/step - loss: 0.0063\n",
      "Epoch 5/100\n",
      "1198/1198 [==============================] - 5s 4ms/step - loss: 0.0058\n",
      "Epoch 6/100\n",
      "1198/1198 [==============================] - 5s 4ms/step - loss: 0.0051\n",
      "Epoch 7/100\n",
      "1198/1198 [==============================] - 5s 4ms/step - loss: 0.0054\n",
      "Epoch 8/100\n",
      "1198/1198 [==============================] - 5s 4ms/step - loss: 0.0053\n",
      "Epoch 9/100\n",
      "1198/1198 [==============================] - 5s 4ms/step - loss: 0.0049\n",
      "Epoch 10/100\n",
      "1198/1198 [==============================] - 5s 4ms/step - loss: 0.0056\n",
      "Epoch 11/100\n",
      "1198/1198 [==============================] - 5s 4ms/step - loss: 0.0054\n",
      "Epoch 12/100\n",
      "1198/1198 [==============================] - 5s 4ms/step - loss: 0.0043\n",
      "Epoch 13/100\n",
      "1198/1198 [==============================] - 5s 4ms/step - loss: 0.0039\n",
      "Epoch 14/100\n",
      "1198/1198 [==============================] - 5s 4ms/step - loss: 0.0042\n",
      "Epoch 15/100\n",
      "1198/1198 [==============================] - 5s 4ms/step - loss: 0.0042\n",
      "Epoch 16/100\n",
      "1198/1198 [==============================] - 5s 4ms/step - loss: 0.0041\n",
      "Epoch 17/100\n",
      "1198/1198 [==============================] - 5s 4ms/step - loss: 0.0043\n",
      "Epoch 18/100\n",
      "1198/1198 [==============================] - 5s 4ms/step - loss: 0.0041\n",
      "Epoch 19/100\n",
      "1198/1198 [==============================] - 5s 4ms/step - loss: 0.0040\n",
      "Epoch 20/100\n",
      "1198/1198 [==============================] - 5s 4ms/step - loss: 0.0038\n",
      "Epoch 21/100\n",
      "1198/1198 [==============================] - 5s 4ms/step - loss: 0.0035\n",
      "Epoch 22/100\n",
      "1198/1198 [==============================] - 5s 4ms/step - loss: 0.0043\n",
      "Epoch 23/100\n",
      "1198/1198 [==============================] - 5s 4ms/step - loss: 0.0043\n",
      "Epoch 24/100\n",
      "1198/1198 [==============================] - 5s 4ms/step - loss: 0.0031\n",
      "Epoch 25/100\n",
      "1198/1198 [==============================] - 5s 4ms/step - loss: 0.0035\n",
      "Epoch 26/100\n",
      "1198/1198 [==============================] - 5s 4ms/step - loss: 0.0033\n",
      "Epoch 27/100\n",
      "1198/1198 [==============================] - 5s 4ms/step - loss: 0.0034\n",
      "Epoch 28/100\n",
      "1198/1198 [==============================] - 5s 4ms/step - loss: 0.0033\n",
      "Epoch 29/100\n",
      "1198/1198 [==============================] - 5s 4ms/step - loss: 0.0033\n",
      "Epoch 30/100\n",
      "1198/1198 [==============================] - 5s 4ms/step - loss: 0.0030\n",
      "Epoch 31/100\n",
      "1198/1198 [==============================] - 5s 4ms/step - loss: 0.0032\n",
      "Epoch 32/100\n",
      "1198/1198 [==============================] - 5s 4ms/step - loss: 0.0031\n",
      "Epoch 33/100\n",
      "1198/1198 [==============================] - 5s 4ms/step - loss: 0.0031\n",
      "Epoch 34/100\n",
      "1198/1198 [==============================] - 5s 4ms/step - loss: 0.0036\n",
      "Epoch 35/100\n",
      "1198/1198 [==============================] - 5s 4ms/step - loss: 0.0031\n",
      "Epoch 36/100\n",
      "1198/1198 [==============================] - 5s 4ms/step - loss: 0.0032\n",
      "Epoch 37/100\n",
      "1198/1198 [==============================] - 5s 4ms/step - loss: 0.0028\n",
      "Epoch 38/100\n",
      "1198/1198 [==============================] - 5s 4ms/step - loss: 0.0030\n",
      "Epoch 39/100\n",
      "1198/1198 [==============================] - 5s 4ms/step - loss: 0.0031\n",
      "Epoch 40/100\n",
      "1198/1198 [==============================] - 5s 4ms/step - loss: 0.0030\n",
      "Epoch 41/100\n",
      "1198/1198 [==============================] - 5s 4ms/step - loss: 0.0030\n",
      "Epoch 42/100\n",
      "1198/1198 [==============================] - 5s 4ms/step - loss: 0.0027\n",
      "Epoch 43/100\n",
      "1198/1198 [==============================] - 5s 4ms/step - loss: 0.0032\n",
      "Epoch 44/100\n",
      "1198/1198 [==============================] - 5s 4ms/step - loss: 0.0027\n",
      "Epoch 45/100\n",
      "1198/1198 [==============================] - 5s 4ms/step - loss: 0.0032\n",
      "Epoch 46/100\n",
      "1198/1198 [==============================] - 5s 4ms/step - loss: 0.0026\n",
      "Epoch 47/100\n",
      "1198/1198 [==============================] - 5s 4ms/step - loss: 0.0027\n",
      "Epoch 48/100\n",
      "1198/1198 [==============================] - 5s 4ms/step - loss: 0.0033\n",
      "Epoch 49/100\n",
      "1198/1198 [==============================] - 5s 4ms/step - loss: 0.0029\n",
      "Epoch 50/100\n",
      "1198/1198 [==============================] - 5s 5ms/step - loss: 0.0027\n",
      "Epoch 51/100\n",
      "1198/1198 [==============================] - 5s 5ms/step - loss: 0.0032\n",
      "Epoch 52/100\n",
      "1198/1198 [==============================] - 6s 5ms/step - loss: 0.0026\n",
      "Epoch 53/100\n",
      "1198/1198 [==============================] - 6s 5ms/step - loss: 0.0025\n",
      "Epoch 54/100\n",
      "1198/1198 [==============================] - 6s 5ms/step - loss: 0.0024\n",
      "Epoch 55/100\n",
      "1198/1198 [==============================] - 5s 5ms/step - loss: 0.0024\n",
      "Epoch 56/100\n",
      "1198/1198 [==============================] - 5s 5ms/step - loss: 0.0025\n",
      "Epoch 57/100\n",
      "1198/1198 [==============================] - 5s 4ms/step - loss: 0.0023\n",
      "Epoch 58/100\n",
      "1198/1198 [==============================] - 5s 4ms/step - loss: 0.0025\n",
      "Epoch 59/100\n",
      "1198/1198 [==============================] - 5s 4ms/step - loss: 0.0024\n",
      "Epoch 60/100\n",
      "1198/1198 [==============================] - 5s 4ms/step - loss: 0.0026\n",
      "Epoch 61/100\n",
      "1198/1198 [==============================] - 5s 4ms/step - loss: 0.0026\n",
      "Epoch 62/100\n",
      "1198/1198 [==============================] - 5s 4ms/step - loss: 0.0023\n",
      "Epoch 63/100\n",
      "1198/1198 [==============================] - 5s 4ms/step - loss: 0.0023\n",
      "Epoch 64/100\n",
      "1198/1198 [==============================] - 5s 4ms/step - loss: 0.0022\n",
      "Epoch 65/100\n",
      "1198/1198 [==============================] - 5s 4ms/step - loss: 0.0023\n",
      "Epoch 66/100\n",
      "1198/1198 [==============================] - 5s 4ms/step - loss: 0.0021\n",
      "Epoch 67/100\n",
      "1198/1198 [==============================] - 5s 4ms/step - loss: 0.0021\n",
      "Epoch 68/100\n",
      "1198/1198 [==============================] - 5s 4ms/step - loss: 0.0023\n",
      "Epoch 69/100\n",
      "1198/1198 [==============================] - 5s 4ms/step - loss: 0.0020\n",
      "Epoch 70/100\n",
      "1198/1198 [==============================] - 5s 4ms/step - loss: 0.0020\n",
      "Epoch 71/100\n",
      "1198/1198 [==============================] - 5s 4ms/step - loss: 0.0020\n",
      "Epoch 72/100\n",
      "1198/1198 [==============================] - 5s 4ms/step - loss: 0.0020\n",
      "Epoch 73/100\n",
      "1198/1198 [==============================] - 5s 4ms/step - loss: 0.0019\n",
      "Epoch 74/100\n",
      "1198/1198 [==============================] - 5s 4ms/step - loss: 0.0018\n",
      "Epoch 75/100\n",
      "1198/1198 [==============================] - 5s 4ms/step - loss: 0.0021\n",
      "Epoch 76/100\n",
      "1198/1198 [==============================] - 5s 4ms/step - loss: 0.0022\n",
      "Epoch 77/100\n",
      "1198/1198 [==============================] - 5s 4ms/step - loss: 0.0019\n",
      "Epoch 78/100\n",
      "1198/1198 [==============================] - 5s 4ms/step - loss: 0.0019\n",
      "Epoch 79/100\n",
      "1198/1198 [==============================] - 5s 4ms/step - loss: 0.0018\n",
      "Epoch 80/100\n",
      "1198/1198 [==============================] - 6s 5ms/step - loss: 0.0019\n",
      "Epoch 81/100\n",
      "1198/1198 [==============================] - 5s 4ms/step - loss: 0.0018\n",
      "Epoch 82/100\n",
      "1198/1198 [==============================] - 5s 4ms/step - loss: 0.0018\n",
      "Epoch 83/100\n",
      "1198/1198 [==============================] - 6s 5ms/step - loss: 0.0020\n",
      "Epoch 84/100\n",
      "1198/1198 [==============================] - 6s 5ms/step - loss: 0.0021\n",
      "Epoch 85/100\n",
      "1198/1198 [==============================] - 6s 5ms/step - loss: 0.0023\n",
      "Epoch 86/100\n",
      "1198/1198 [==============================] - 6s 5ms/step - loss: 0.0020\n",
      "Epoch 87/100\n",
      "1198/1198 [==============================] - 6s 5ms/step - loss: 0.0020\n",
      "Epoch 88/100\n",
      "1198/1198 [==============================] - 5s 4ms/step - loss: 0.0017\n",
      "Epoch 89/100\n",
      "1198/1198 [==============================] - 5s 4ms/step - loss: 0.0017\n",
      "Epoch 90/100\n",
      "1198/1198 [==============================] - 5s 4ms/step - loss: 0.0015\n",
      "Epoch 91/100\n",
      "1198/1198 [==============================] - 5s 4ms/step - loss: 0.0015\n",
      "Epoch 92/100\n",
      "1198/1198 [==============================] - 5s 4ms/step - loss: 0.0016\n",
      "Epoch 93/100\n",
      "1198/1198 [==============================] - 5s 4ms/step - loss: 0.0015\n",
      "Epoch 94/100\n",
      "1198/1198 [==============================] - 5s 4ms/step - loss: 0.0016\n",
      "Epoch 95/100\n",
      "1198/1198 [==============================] - 5s 4ms/step - loss: 0.0017\n",
      "Epoch 96/100\n",
      "1198/1198 [==============================] - 5s 4ms/step - loss: 0.0016\n",
      "Epoch 97/100\n"
     ]
    },
    {
     "name": "stdout",
     "output_type": "stream",
     "text": [
      "1198/1198 [==============================] - 5s 4ms/step - loss: 0.0015\n",
      "Epoch 98/100\n",
      "1198/1198 [==============================] - 5s 4ms/step - loss: 0.0016\n",
      "Epoch 99/100\n",
      "1198/1198 [==============================] - 5s 4ms/step - loss: 0.0015\n",
      "Epoch 100/100\n",
      "1198/1198 [==============================] - 5s 4ms/step - loss: 0.0016\n"
     ]
    },
    {
     "data": {
      "text/plain": [
       "<keras.callbacks.callbacks.History at 0x7efc92d15e48>"
      ]
     },
     "execution_count": 224,
     "metadata": {},
     "output_type": "execute_result"
    }
   ],
   "source": [
    "new.compile(optimizer='adam',loss='mean_squared_error')\n",
    "new.fit(training_data,y_train,epochs=100,batch_size=32)"
   ]
  },
  {
   "cell_type": "code",
   "execution_count": 225,
   "metadata": {},
   "outputs": [],
   "source": [
    "\n",
    "test_data=pd.concat((train_dataset['Open'],test_dataset['Open']),axis=0)\n"
   ]
  },
  {
   "cell_type": "code",
   "execution_count": 226,
   "metadata": {},
   "outputs": [
    {
     "data": {
      "text/plain": [
       "(1278,)"
      ]
     },
     "execution_count": 226,
     "metadata": {},
     "output_type": "execute_result"
    }
   ],
   "source": [
    "test_data.shape"
   ]
  },
  {
   "cell_type": "code",
   "execution_count": 227,
   "metadata": {},
   "outputs": [],
   "source": [
    "test = test_data[len(test_data) - len(test_dataset) - 60:].values"
   ]
  },
  {
   "cell_type": "code",
   "execution_count": 228,
   "metadata": {},
   "outputs": [
    {
     "data": {
      "text/plain": [
       "(80,)"
      ]
     },
     "execution_count": 228,
     "metadata": {},
     "output_type": "execute_result"
    }
   ],
   "source": [
    "test.shape"
   ]
  },
  {
   "cell_type": "code",
   "execution_count": 229,
   "metadata": {},
   "outputs": [
    {
     "data": {
      "text/plain": [
       "1278"
      ]
     },
     "execution_count": 229,
     "metadata": {},
     "output_type": "execute_result"
    }
   ],
   "source": [
    "len(test_data)"
   ]
  },
  {
   "cell_type": "code",
   "execution_count": 230,
   "metadata": {},
   "outputs": [],
   "source": [
    "test=test.reshape(-1,1)\n",
    "test=obj.transform(test)"
   ]
  },
  {
   "cell_type": "code",
   "execution_count": 231,
   "metadata": {},
   "outputs": [],
   "source": [
    "X_test=[]\n",
    "for i in range(60, 80):\n",
    "    X_test.append(test[i-60:i, 0])\n",
    "    \n",
    "X_test = np.array(X_test)\n",
    "X_test = np.reshape(X_test, (X_test.shape[0], X_test.shape[1], 1))\n",
    "y_pred = new.predict(X_test)\n",
    "y_pred = obj.inverse_transform(y_pred)\n"
   ]
  },
  {
   "cell_type": "code",
   "execution_count": 232,
   "metadata": {},
   "outputs": [
    {
     "data": {
      "image/png": "[encoded data removed]",
      "text/plain": [
       "<Figure size 432x288 with 1 Axes>"
      ]
     },
     "metadata": {
      "needs_background": "light"
     },
     "output_type": "display_data"
    }
   ],
   "source": [
    "plt.plot(tst, color = 'red', label = 'Real Google Stock Price')\n",
    "plt.plot(y_pred, color = 'blue', label = 'Predicted Google Stock Price')\n",
    "plt.title('Google Stock Price Prediction')\n",
    "plt.xlabel('Time')\n",
    "plt.ylabel('Google Stock Price')\n",
    "plt.legend()\n",
    "plt.show()"
   ]
  },
  {
   "cell_type": "code",
   "execution_count": null,
   "metadata": {},
   "outputs": [],
   "source": []
  }
 ],
 "metadata": {
  "kernelspec": {
   "display_name": "Python 3",
   "language": "python",
   "name": "python3"
  },
  "language_info": {
   "codemirror_mode": {
    "name": "ipython",
    "version": 3
   },
   "file_extension": ".py",
   "mimetype": "text/x-python",
   "name": "python",
   "nbconvert_exporter": "python",
   "pygments_lexer": "ipython3",
   "version": "3.7.3"
  }
 },
 "nbformat": 4,
 "nbformat_minor": 2
}
